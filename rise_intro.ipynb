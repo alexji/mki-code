{
 "cells": [
  {
   "cell_type": "markdown",
   "metadata": {
    "slideshow": {
     "slide_type": "slide"
    }
   },
   "source": [
    "<h1><center>Introduction to RISE</center></h1>\n",
    "<br>\n",
    "<h3><center>MKI Code Coffee</center></h3>\n",
    "<h3><center>May 6, 2016</center></h3>\n",
    "<h3><center>Keaton Burns</center></h3>"
   ]
  },
  {
   "cell_type": "markdown",
   "metadata": {
    "slideshow": {
     "slide_type": "slide"
    }
   },
   "source": [
    "## What is RISE?\n",
    "\n",
    "* A slideshow extension for Jupyter/IPython\n",
    "* Get it at https://github.com/damianavila/RISE"
   ]
  },
  {
   "cell_type": "markdown",
   "metadata": {
    "slideshow": {
     "slide_type": "slide"
    }
   },
   "source": [
    "## Installation\n",
    "\n",
    "* Clone the git repository and setup locally"
   ]
  },
  {
   "cell_type": "markdown",
   "metadata": {
    "slideshow": {
     "slide_type": "slide"
    }
   },
   "source": [
    "## What does it do?\n",
    "\n",
    "* Adds slideshow viewing mode\n",
    "* Adds \"slideshow\" cell toolbar for control flow"
   ]
  },
  {
   "cell_type": "markdown",
   "metadata": {
    "slideshow": {
     "slide_type": "slide"
    }
   },
   "source": [
    "## Examples\n",
    "\n",
    "**\"Slide\" type** : These cells start a new slide."
   ]
  },
  {
   "cell_type": "markdown",
   "metadata": {},
   "source": [
    "**\"-\" type** : These cells just appear with whatever is above it."
   ]
  },
  {
   "cell_type": "markdown",
   "metadata": {
    "slideshow": {
     "slide_type": "fragment"
    }
   },
   "source": [
    "**\"Fragment\" type** : These cells add content to the current slide."
   ]
  },
  {
   "cell_type": "markdown",
   "metadata": {
    "slideshow": {
     "slide_type": "subslide"
    }
   },
   "source": [
    "**\"Sub-Slide\" type** : These cells begin a new sub-slide below the current slide."
   ]
  },
  {
   "cell_type": "markdown",
   "metadata": {
    "slideshow": {
     "slide_type": "skip"
    }
   },
   "source": [
    "**\"Skip\" type** : These cells do not display in slideshow mode."
   ]
  },
  {
   "cell_type": "markdown",
   "metadata": {
    "slideshow": {
     "slide_type": "notes"
    }
   },
   "source": [
    "**\"Notes\" type** : These cells are meant to eventually support presenter notes -- currently just skipped."
   ]
  },
  {
   "cell_type": "markdown",
   "metadata": {
    "slideshow": {
     "slide_type": "slide"
    }
   },
   "source": [
    "## Navigation\n",
    "\n",
    "The left/right arrow keys navigate through slides and fragments, skipping sub-slides.\n",
    "\n",
    "Spacebar / shift+spacebar navigates through everything, including sub-slides."
   ]
  },
  {
   "cell_type": "markdown",
   "metadata": {
    "slideshow": {
     "slide_type": "fragment"
    }
   },
   "source": [
    "This lets you place \"backup\" slides as sub-slides below the relevant content, but still easily navigate over them."
   ]
  },
  {
   "cell_type": "markdown",
   "metadata": {
    "slideshow": {
     "slide_type": "slide"
    }
   },
   "source": [
    "## Configuration\n",
    "\n",
    "* Modify ~/.jupyter/nbconfig/livereveal.json:\n",
    "\n",
    "`\n",
    "{\n",
    "    \"scroll\": true,\n",
    "    \"start_slideshow_at\": \"selected\"\n",
    "}\n",
    "`"
   ]
  },
  {
   "cell_type": "markdown",
   "metadata": {
    "slideshow": {
     "slide_type": "slide"
    }
   },
   "source": [
    "## That's it!\n",
    "\n",
    "* Easy to setup\n",
    "* Easy to jump in and out of slideshow\n",
    "* Further customization: \n",
    "    * Use html in markdown cells\n",
    "    * Change ~/.jupyter/custom/custom.css"
   ]
  }
 ],
 "metadata": {
  "celltoolbar": "Slideshow",
  "kernelspec": {
   "display_name": "Python 3",
   "language": "python",
   "name": "python3"
  },
  "language_info": {
   "codemirror_mode": {
    "name": "ipython",
    "version": 3
   },
   "file_extension": ".py",
   "mimetype": "text/x-python",
   "name": "python",
   "nbconvert_exporter": "python",
   "pygments_lexer": "ipython3",
   "version": "3.5.0"
  }
 },
 "nbformat": 4,
 "nbformat_minor": 0
}
