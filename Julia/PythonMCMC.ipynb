{
 "cells": [
  {
   "cell_type": "markdown",
   "metadata": {},
   "source": [
    "## Pure Numpy"
   ]
  },
  {
   "cell_type": "code",
   "execution_count": 1,
   "metadata": {
    "collapsed": true
   },
   "outputs": [],
   "source": [
    "from numpy import zeros, random, sqrt\n",
    "gamma = random.gamma\n",
    "normal = random.normal\n",
    "\n",
    "def pygibbs(N=20000, thin=200):\n",
    "    mat = zeros((N,2))\n",
    "    x,y = mat[0]\n",
    "    for i in range(N):\n",
    "        for j in range(thin):\n",
    "            x = gamma(3, y**2 + 4)\n",
    "            y = normal(1./(x+1), 1./sqrt(2*(x+1)))\n",
    "        mat[i] = x,y\n",
    "\n",
    "    return mat"
   ]
  },
  {
   "cell_type": "code",
   "execution_count": 2,
   "metadata": {
    "collapsed": false
   },
   "outputs": [
    {
     "name": "stdout",
     "output_type": "stream",
     "text": [
      "1 loops, best of 3: 5.75 s per loop\n"
     ]
    }
   ],
   "source": [
    "%timeit pygibbs()"
   ]
  },
  {
   "cell_type": "markdown",
   "metadata": {},
   "source": [
    "## Cython"
   ]
  },
  {
   "cell_type": "code",
   "execution_count": null,
   "metadata": {
    "collapsed": true
   },
   "outputs": [],
   "source": [
    "%load_ext Cython"
   ]
  },
  {
   "cell_type": "code",
   "execution_count": null,
   "metadata": {
    "collapsed": false
   },
   "outputs": [],
   "source": [
    "%%cython -lm -lgsl -lgslcblas -I/Users/andreasnoack/lib/python3.5/site-packages/numpy/core/include\n",
    "\n",
    "cimport cython\n",
    "import numpy as np\n",
    "from numpy cimport *\n",
    "\n",
    "cdef extern from \"math.h\":\n",
    "    double sqrt(double) \n",
    "  \n",
    "cdef extern from \"gsl/gsl_rng.h\":\n",
    "    ctypedef struct gsl_rng_type\n",
    "    ctypedef struct gsl_rng\n",
    "\n",
    "    gsl_rng_type *gsl_rng_mt19937\n",
    "    gsl_rng *gsl_rng_alloc(gsl_rng_type * T) nogil\n",
    "  \n",
    "cdef extern from \"gsl/gsl_randist.h\":\n",
    "    double gamma \"gsl_ran_gamma\"(gsl_rng * r,double,double)\n",
    "    double gaussian \"gsl_ran_gaussian\"(gsl_rng * r,double)\n",
    "  \n",
    "cdef gsl_rng *r = gsl_rng_alloc(gsl_rng_mt19937)\n",
    "\n",
    "@cython.wraparound(False)\n",
    "@cython.boundscheck(False)\n",
    "def gibbs(int N=20000,int thin=500):\n",
    "    cdef: \n",
    "        double x=0\n",
    "        double y=0\n",
    "        int i, j\n",
    "        ndarray[float64_t, ndim=2] samples\n",
    "\n",
    "    samples = np.empty((N,thin))\n",
    "    for i from 0 <= i < N:\n",
    "        for j from 0 <= j < thin:\n",
    "            x = gamma(r,3,1.0/(y*y+4))\n",
    "            y = gaussian(r,1.0/sqrt(x+1))\n",
    "        samples[i,0] = x\n",
    "        samples[i,1] = y\n",
    "    return samples"
   ]
  },
  {
   "cell_type": "code",
   "execution_count": 3,
   "metadata": {
    "collapsed": false
   },
   "outputs": [],
   "source": [
    "## Sorry couldn't get %%cython magic to work in time\n",
    "import mcmc"
   ]
  },
  {
   "cell_type": "code",
   "execution_count": 5,
   "metadata": {
    "collapsed": false
   },
   "outputs": [
    {
     "name": "stdout",
     "output_type": "stream",
     "text": [
      "1 loops, best of 3: 902 ms per loop\n"
     ]
    }
   ],
   "source": [
    "%timeit mcmc.gibbs()"
   ]
  }
 ],
 "metadata": {
  "kernelspec": {
   "display_name": "Python 3",
   "language": "python",
   "name": "python3"
  },
  "language_info": {
   "codemirror_mode": {
    "name": "ipython",
    "version": 3
   },
   "file_extension": ".py",
   "mimetype": "text/x-python",
   "name": "python",
   "nbconvert_exporter": "python",
   "pygments_lexer": "ipython3",
   "version": "3.5.1"
  }
 },
 "nbformat": 4,
 "nbformat_minor": 0
}
